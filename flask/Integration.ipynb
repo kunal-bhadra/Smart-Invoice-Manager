{
 "cells": [
  {
   "cell_type": "code",
   "execution_count": 1,
   "id": "52cb9dd5",
   "metadata": {},
   "outputs": [
    {
     "name": "stdout",
     "output_type": "stream",
     "text": [
      "Note: you may need to restart the kernel to use updated packages.\n"
     ]
    }
   ],
   "source": [
    "%pip install flask flask_cors -q"
   ]
  },
  {
   "cell_type": "code",
   "execution_count": 2,
   "id": "8933d4f8",
   "metadata": {},
   "outputs": [
    {
     "name": "stdout",
     "output_type": "stream",
     "text": [
      " * Serving Flask app \"__main__\" (lazy loading)\n",
      " * Environment: production\n",
      "\u001b[31m   WARNING: This is a development server. Do not use it in a production deployment.\u001b[0m\n",
      "\u001b[2m   Use a production WSGI server instead.\u001b[0m\n",
      " * Debug mode: off\n"
     ]
    },
    {
     "name": "stderr",
     "output_type": "stream",
     "text": [
      " * Running on http://127.0.0.1:5000/ (Press CTRL+C to quit)\n",
      "127.0.0.1 - - [19/Apr/2022 10:47:18] \"OPTIONS / HTTP/1.1\" 200 -\n"
     ]
    },
    {
     "name": "stdout",
     "output_type": "stream",
     "text": [
      "{'business_code': 'CA02', 'cust_number': 140106181, 'name_customer': 'pred_data', 'clear_date': '2019-12-04', 'buisness_year': 2019, 'doc_id': '2960581231', 'posting_date': '2019-09-20', 'due_in_date': '2019-10-04', 'baseline_create_date': '2019-09-24', 'cust_payment_terms': 'CA10', 'converted_usd': '22225.84'}\n",
      " Predict\n"
     ]
    },
    {
     "name": "stderr",
     "output_type": "stream",
     "text": [
      "127.0.0.1 - - [19/Apr/2022 10:47:19] \"POST / HTTP/1.1\" 200 -\n"
     ]
    },
    {
     "name": "stdout",
     "output_type": "stream",
     "text": [
      "Bucket:  [{'doc_id': 2960581231, 'aging_bucket': '0-15'}]\n"
     ]
    },
    {
     "name": "stderr",
     "output_type": "stream",
     "text": [
      "127.0.0.1 - - [19/Apr/2022 10:52:34] \"OPTIONS / HTTP/1.1\" 200 -\n",
      "127.0.0.1 - - [19/Apr/2022 10:52:34] \"POST / HTTP/1.1\" 200 -\n"
     ]
    },
    {
     "name": "stdout",
     "output_type": "stream",
     "text": [
      "{'business_code': 'U001', 'cust_number': 200772595, 'name_customer': 'pred_data', 'clear_date': '2020-03-05', 'buisness_year': 2020, 'doc_id': '1930536775', 'posting_date': '2020-02-19', 'due_in_date': '2020-03-05', 'baseline_create_date': '2020-02-19', 'cust_payment_terms': 'NAA8', 'converted_usd': '6120.86'}\n",
      " Predict\n",
      "Bucket:  [{'doc_id': 1930536775, 'aging_bucket': '0-15'}]\n"
     ]
    },
    {
     "name": "stderr",
     "output_type": "stream",
     "text": [
      "127.0.0.1 - - [19/Apr/2022 10:53:55] \"OPTIONS / HTTP/1.1\" 200 -\n",
      "127.0.0.1 - - [19/Apr/2022 10:53:55] \"POST / HTTP/1.1\" 200 -\n"
     ]
    },
    {
     "name": "stdout",
     "output_type": "stream",
     "text": [
      "{'business_code': 'U001', 'cust_number': 200765011, 'name_customer': 'pred_data', 'clear_date': '2019-06-06', 'buisness_year': 2019, 'doc_id': '1929365364', 'posting_date': '2019-05-22', 'due_in_date': '2019-06-06', 'baseline_create_date': '2019-05-22', 'cust_payment_terms': 'NAA8', 'converted_usd': '4008.05'}\n",
      " Predict\n",
      "Bucket:  [{'doc_id': 1929365364, 'aging_bucket': 'nan'}]\n"
     ]
    },
    {
     "name": "stderr",
     "output_type": "stream",
     "text": [
      "127.0.0.1 - - [19/Apr/2022 11:03:02] \"OPTIONS / HTTP/1.1\" 200 -\n",
      "127.0.0.1 - - [19/Apr/2022 11:03:02] \"POST / HTTP/1.1\" 200 -\n"
     ]
    },
    {
     "name": "stdout",
     "output_type": "stream",
     "text": [
      "{'business_code': 'U001', 'cust_number': 200792734, 'name_customer': 'pred_data', 'clear_date': '2019-12-30', 'buisness_year': 2019, 'doc_id': '1929873765', 'posting_date': '2019-09-14', 'due_in_date': '2019-09-29', 'baseline_create_date': '2019-09-14', 'cust_payment_terms': 'NAA8', 'converted_usd': '2253.86'}\n",
      " Predict\n",
      "Bucket:  [{'doc_id': 1929873765, 'aging_bucket': '0-15'}]\n"
     ]
    }
   ],
   "source": [
    "from flask import Flask, redirect, url_for, render_template, request,jsonify, make_response\n",
    "import New_Bucket\n",
    "import pandas as pd\n",
    "from flask_cors import CORS\n",
    "\n",
    "data = pd.DataFrame()\n",
    "app = Flask(__name__)\n",
    "CORS(app)\n",
    "\n",
    "@app.route(\"/\",methods=[\"POST\", \"GET\"])\n",
    "def home():\n",
    "    \n",
    "    if request.method == \"POST\":\n",
    "        business_code = request.json[\"business_code\"]\n",
    "        cust_number = request.json['cust_number']\n",
    "        name_customer = request.json['name_customer']\n",
    "        clear_date = request.json['clear_date']\n",
    "        buisness_year = int(request.json['buisness_year'])\n",
    "        doc_id = int(request.json['doc_id'])\n",
    "        posting_date = request.json['posting_date']\n",
    "        due_in_date = request.json['due_in_date']\n",
    "        baseline_create_date = request.json['baseline_create_date']\n",
    "        cust_payment_terms = request.json['cust_payment_terms']\n",
    "        converted_usd = float(request.json['converted_usd'])\n",
    " \n",
    "        data['business_code'] = [business_code]\n",
    "        data['cust_number'] = [cust_number]\n",
    "        data['name_customer'] = [name_customer]\n",
    "        data['clear_date'] = [clear_date]\n",
    "        data['buisness_year'] = [buisness_year]\n",
    "        data['doc_id'] = [doc_id]\n",
    "        data['posting_date'] =[posting_date]\n",
    "        data['due_in_date'] = [due_in_date]\n",
    "        data['baseline_create_date'] = [baseline_create_date]\n",
    "        data['cust_payment_terms'] = [cust_payment_terms]\n",
    "        data['converted_usd'] = [converted_usd]\n",
    "        \n",
    "        \n",
    "        print(request.json)\n",
    "        \n",
    "       \n",
    "        \n",
    "        response = make_response(jsonify(New_Bucket.predict(data)),200)\n",
    "        response.headers[\"Content-Type\"] = \"application/json\"\n",
    "        return response\n",
    "    else:\n",
    "        return render_template(\"index1.html\")\n",
    "        \n",
    "\n",
    "\n",
    "if __name__ == \"__main__\":\n",
    "    app.run()"
   ]
  },
  {
   "cell_type": "code",
   "execution_count": null,
   "id": "20f008c9",
   "metadata": {},
   "outputs": [],
   "source": []
  }
 ],
 "metadata": {
  "kernelspec": {
   "display_name": "Python 3",
   "language": "python",
   "name": "python3"
  },
  "language_info": {
   "codemirror_mode": {
    "name": "ipython",
    "version": 3
   },
   "file_extension": ".py",
   "mimetype": "text/x-python",
   "name": "python",
   "nbconvert_exporter": "python",
   "pygments_lexer": "ipython3",
   "version": "3.8.12"
  }
 },
 "nbformat": 4,
 "nbformat_minor": 5
}
